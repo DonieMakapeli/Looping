{
 "cells": [
  {
   "cell_type": "code",
   "execution_count": 2,
   "id": "0085c7b4",
   "metadata": {},
   "outputs": [
    {
     "name": "stdout",
     "output_type": "stream",
     "text": [
      "1\n",
      "2\n",
      "3\n",
      "4\n",
      "5\n",
      "6\n",
      "7\n",
      "8\n",
      "9\n",
      "10\n"
     ]
    }
   ],
   "source": [
    "# For in range\n",
    "# print 1 - 10\n",
    "\n",
    "for i in range (1,11):\n",
    "    print(i)"
   ]
  },
  {
   "cell_type": "code",
   "execution_count": 4,
   "id": "4f0d4f80",
   "metadata": {},
   "outputs": [
    {
     "name": "stdout",
     "output_type": "stream",
     "text": [
      "10\n",
      "20\n",
      "30\n",
      "40\n",
      "50\n",
      "60\n",
      "70\n",
      "80\n",
      "90\n",
      "100\n"
     ]
    }
   ],
   "source": [
    "#print 10 20 30 40 50 --- 100\n",
    "\n",
    "for i in range(1,11):\n",
    "    print(i*10)"
   ]
  },
  {
   "cell_type": "code",
   "execution_count": 5,
   "id": "25e5a9ff",
   "metadata": {},
   "outputs": [
    {
     "name": "stdout",
     "output_type": "stream",
     "text": [
      "10\n",
      "20\n",
      "30\n",
      "40\n",
      "50\n",
      "60\n",
      "70\n",
      "80\n",
      "90\n",
      "100\n"
     ]
    }
   ],
   "source": [
    "for i in range(10,110,10):\n",
    "    print(i)\n",
    "    "
   ]
  },
  {
   "cell_type": "code",
   "execution_count": 8,
   "id": "8103de2e",
   "metadata": {},
   "outputs": [
    {
     "name": "stdout",
     "output_type": "stream",
     "text": [
      "10\n",
      "9\n",
      "8\n",
      "7\n",
      "6\n",
      "5\n",
      "4\n",
      "3\n",
      "2\n",
      "1\n"
     ]
    }
   ],
   "source": [
    "# 10 9 8 7 ---1\n",
    "for i in range(10,0,-1):\n",
    "        print(i)"
   ]
  },
  {
   "cell_type": "code",
   "execution_count": 19,
   "id": "7a1887aa",
   "metadata": {},
   "outputs": [
    {
     "name": "stdout",
     "output_type": "stream",
     "text": [
      "1\n",
      "-2\n",
      "3\n",
      "-4\n",
      "5\n",
      "-6\n",
      "7\n",
      "-8\n",
      "9\n",
      "-10\n"
     ]
    }
   ],
   "source": [
    "# 1 -2 3 -4 5 -6 7 -8 9 -10\n",
    "sign = 1\n",
    "for i in range(1,11):\n",
    "    print(i * sign)\n",
    "    sign *= -1\n",
    "   "
   ]
  },
  {
   "cell_type": "code",
   "execution_count": 34,
   "id": "ae84b183",
   "metadata": {},
   "outputs": [
    {
     "name": "stdout",
     "output_type": "stream",
     "text": [
      "Isikan Bilangan4\n",
      "Faktorial dari 4! adalah 24\n"
     ]
    }
   ],
   "source": [
    "# Faktorial => input 4! = 4 * 3 * 2 * 1 = 24\n",
    "\n",
    "number = int(input('Isikan Bilangan'))\n",
    "\n",
    "result = 1\n",
    "for i in range(1, number+1):\n",
    "    result = result * i\n",
    "    \n",
    "print(f\"Faktorial dari {number}! adalah {result}\")"
   ]
  },
  {
   "cell_type": "code",
   "execution_count": 27,
   "id": "9b99aea4",
   "metadata": {},
   "outputs": [
    {
     "name": "stdout",
     "output_type": "stream",
     "text": [
      "isikan bilangan2\n",
      "isikan pangkat3\n",
      "Pangkat dari 2 ! adalah 8\n"
     ]
    }
   ],
   "source": [
    "number = int (input('isikan bilangan'))\n",
    "pangkat = int (input('isikan pangkat'))\n",
    "result = 1\n",
    "for i in range(1, pangkat +1):\n",
    "    result = number ** pangkat\n",
    "    \n",
    "print(f\"Pangkat dari {number} ! adalah {result}\")"
   ]
  },
  {
   "cell_type": "code",
   "execution_count": 35,
   "id": "ac7c3030",
   "metadata": {},
   "outputs": [
    {
     "name": "stdout",
     "output_type": "stream",
     "text": [
      "isikan bilangan9\n",
      "9 adalah bilangan bukan prima\n"
     ]
    }
   ],
   "source": [
    "# Cek Bilangan Prima\n",
    "#Bil. Prima adalah bilangan yang hanya habis dibagi dengan bilangan itu \n",
    "#sendiri dan 1\n",
    "\n",
    "#bil.prima punya 2 faktor\n",
    "\n",
    "number = int(input('isikan bilangan'))\n",
    "faktor = 0\n",
    "for i in range (1,number+1):\n",
    "    sisa = number % i\n",
    "    if number % i == 0:\n",
    "        faktor = faktor + 1\n",
    "        \n",
    "if faktor == 2:\n",
    "    print(f\"{number} adalah bilangan prima\")\n",
    "else :\n",
    "    print(f\"{number} adalah bilangan bukan prima\")"
   ]
  },
  {
   "cell_type": "code",
   "execution_count": 40,
   "id": "07479dfb",
   "metadata": {},
   "outputs": [
    {
     "name": "stdout",
     "output_type": "stream",
     "text": [
      "22\n",
      "U\n",
      "0 U\n",
      "1 n\n",
      "2 i\n",
      "3 v\n",
      "4 e\n",
      "5 r\n",
      "6 s\n",
      "7 i\n",
      "8 t\n",
      "9 a\n",
      "10 s\n",
      "11  \n",
      "12 N\n",
      "13 u\n",
      "14 s\n",
      "15 a\n",
      "16  \n",
      "17 P\n",
      "18 u\n",
      "19 t\n",
      "20 r\n",
      "21 a\n"
     ]
    }
   ],
   "source": [
    "kampus = \"Universitas Nusa Putra\" # panjang = 22\n",
    "print(len(kampus))\n",
    "print(kampus[0])\n",
    "for i,huruf in enumerate (kampus):\n",
    "    print(i,huruf)\n"
   ]
  },
  {
   "cell_type": "code",
   "execution_count": 50,
   "id": "631db9d0",
   "metadata": {},
   "outputs": [
    {
     "name": "stdout",
     "output_type": "stream",
     "text": [
      "jumlah huruf a:3\n",
      "jumlah huruf i:2\n",
      "jumlah huruf u:3\n",
      "jumlah huruf e:0\n",
      "jumlah huruf o:0\n",
      "jumlah huruf vokal:8\n"
     ]
    }
   ],
   "source": [
    "#Menghitung jumlah huruf vokal a i u e o\n",
    "\n",
    "kampus = \"Universitas Nusa Putra\" #panjang 22\n",
    "panjang = len(kampus)\n",
    "vokal_a = 0\n",
    "vokal_i = 0\n",
    "vokal_u = 0\n",
    "vokal_e = 0\n",
    "vokal_o = 0\n",
    "\n",
    "for i in range(0,panjang):\n",
    "    if kampus[i]=='a'or kampus[i]=='a':\n",
    "        vokal_a +=1\n",
    "    elif kampus[i]=='i'or kampus[i]=='i':\n",
    "        vokal_i +=1\n",
    "    elif kampus[i]=='u'or kampus[i]=='u':\n",
    "        vokal_u +=1\n",
    "    elif kampus[i]=='e'or kampus[i]=='e':\n",
    "        vokal_u +=1\n",
    "    elif kampus[i]=='o'or kampus[i]=='o':\n",
    "        vokal_u +=1\n",
    "    \n",
    "print(f\"jumlah huruf a:{vokal_a}\")\n",
    "print(f\"jumlah huruf i:{vokal_i}\")\n",
    "print(f\"jumlah huruf u:{vokal_u}\")\n",
    "print(f\"jumlah huruf e:{vokal_e}\")\n",
    "print(f\"jumlah huruf o:{vokal_o}\")\n",
    "print(f\"jumlah huruf vokal:{vokal_a + vokal_i + vokal_u + vokal_e + vokal_o}\")"
   ]
  },
  {
   "cell_type": "code",
   "execution_count": 70,
   "id": "dc21138f",
   "metadata": {},
   "outputs": [
    {
     "name": "stdout",
     "output_type": "stream",
     "text": [
      "isikan kalimat: AKU\n",
      "AKU adalah Bukan Palindrome\n",
      "Apakah Mau mengulang Program?: Y/TT\n"
     ]
    }
   ],
   "source": [
    "ulang = \"Y\"\n",
    "while(ulang== \"Y\"):\n",
    "    \n",
    "    kalimat = input(\"isikan kalimat: \")\n",
    "    panjang_kalimat = len(kalimat)\n",
    "\n",
    "    \n",
    "    \n",
    "    isPalindrome = True\n",
    "    for i in range(0,panjang_kalimat):\n",
    "        urut = kalimat[i]\n",
    "        kebalikan = kalimat[panjang_kalimat - i-1]\n",
    "    \n",
    "        if urut != kebalikan:\n",
    "            isPalindrome = False\n",
    "        break\n",
    "\n",
    "    if ispalindrome:\n",
    "        print(f\"{kalimat} adalah palindrome\")\n",
    "    else:\n",
    "        print(f\"{kalimat} adalah Bukan Palindrome\")\n",
    "    \n",
    "    ulang = input('Apakah Mau mengulang Program?: Y/T')"
   ]
  },
  {
   "cell_type": "code",
   "execution_count": 76,
   "id": "cbe5f3a5",
   "metadata": {},
   "outputs": [
    {
     "name": "stdout",
     "output_type": "stream",
     "text": [
      "i: 1 dan j :1\n",
      "i: 1 dan j :2\n",
      "i: 1 dan j :3\n",
      "i: 1 dan j :4\n",
      "i: 2 dan j :1\n",
      "i: 2 dan j :2\n",
      "i: 2 dan j :3\n",
      "i: 2 dan j :4\n",
      "i: 3 dan j :1\n",
      "i: 3 dan j :2\n",
      "i: 3 dan j :3\n",
      "i: 3 dan j :4\n",
      "i: 4 dan j :1\n",
      "i: 4 dan j :2\n",
      "i: 4 dan j :3\n",
      "i: 4 dan j :4\n"
     ]
    }
   ],
   "source": [
    "# Nested For\n",
    "\n",
    "for i in range(1,5):\n",
    "    for j in range(1,5):\n",
    "        print(f\"i: {i} dan j :{j}\")\n",
    "        "
   ]
  }
 ],
 "metadata": {
  "kernelspec": {
   "display_name": "Python 3 (ipykernel)",
   "language": "python",
   "name": "python3"
  },
  "language_info": {
   "codemirror_mode": {
    "name": "ipython",
    "version": 3
   },
   "file_extension": ".py",
   "mimetype": "text/x-python",
   "name": "python",
   "nbconvert_exporter": "python",
   "pygments_lexer": "ipython3",
   "version": "3.9.12"
  }
 },
 "nbformat": 4,
 "nbformat_minor": 5
}
